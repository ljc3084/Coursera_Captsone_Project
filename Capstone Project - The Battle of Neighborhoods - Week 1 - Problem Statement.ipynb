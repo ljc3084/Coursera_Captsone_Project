{
 "cells": [
  {
   "cell_type": "markdown",
   "id": "48aa7088-16a2-4dc9-b0eb-f7179c8e362a",
   "metadata": {},
   "source": [
    "## Capstone Project - The Battle of Neighborhoods - WEEK 4"
   ]
  },
  {
   "cell_type": "markdown",
   "id": "3e83fa00-bce2-4a28-b42b-7661f8eeb23e",
   "metadata": {},
   "source": [
    "By Joseph Lwere"
   ]
  },
  {
   "cell_type": "markdown",
   "id": "ae13b8f6-b209-4a87-9bf4-97330489f615",
   "metadata": {},
   "source": [
    "## 1.1 Problem Description and Analysis"
   ]
  },
  {
   "cell_type": "markdown",
   "id": "e8e1aeb7-bae1-4488-b4b5-995ff16862a7",
   "metadata": {},
   "source": [
    "The analysis of this project is we have a new pizzeria opening up in the Toronto City. The management of the pizzeria want to get a strategic location that will be profitable once the pizzeria opens up. To arrive at this, the management needs guidance to choose the best possible location to set up, this leads to the problem statement.\n",
    "\n",
    "**Problem Statement:** In this project we want to find the best possible location in Toronto to set up a pizzeria that will kick off with good sales. This location will be one that is strategically located in the city of Toronto. "
   ]
  },
  {
   "cell_type": "code",
   "execution_count": null,
   "id": "fd54f65d-b799-4a46-a33b-c36f101284b5",
   "metadata": {},
   "outputs": [],
   "source": []
  }
 ],
 "metadata": {
  "kernelspec": {
   "display_name": "Python",
   "language": "python",
   "name": "conda-env-python-py"
  },
  "language_info": {
   "codemirror_mode": {
    "name": "ipython",
    "version": 3
   },
   "file_extension": ".py",
   "mimetype": "text/x-python",
   "name": "python",
   "nbconvert_exporter": "python",
   "pygments_lexer": "ipython3",
   "version": "3.6.13"
  }
 },
 "nbformat": 4,
 "nbformat_minor": 5
}
