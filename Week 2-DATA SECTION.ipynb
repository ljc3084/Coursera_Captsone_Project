{
 "cells": [
  {
   "cell_type": "markdown",
   "id": "48aa7088-16a2-4dc9-b0eb-f7179c8e362a",
   "metadata": {},
   "source": [
    "## Capstone Project - The Battle of Neighborhoods - WEEK 4"
   ]
  },
  {
   "cell_type": "markdown",
   "id": "3e83fa00-bce2-4a28-b42b-7661f8eeb23e",
   "metadata": {},
   "source": [
    "By Joseph Lwere"
   ]
  },
  {
   "cell_type": "markdown",
   "id": "8004a401-7cde-41df-ba5d-1b9c2f63a30e",
   "metadata": {},
   "source": [
    "## 1.2 Data Requirements\n",
    "We will open up the pizzeria to have the capacity to supply pizzas using food vendors and online delivery orders system from online stores. We will also want to know the number of nearby restaurants within a 5km radius so we use the neighborhood to determine the number of potential vendors. For orders to be delivered, the volume ordered for each neighborhood's will be considered. The volume of orders is determined by the number of people (population) and average house hold income."
   ]
  },
  {
   "cell_type": "markdown",
   "id": "fea41362-b6d9-47a2-a5b3-bf73ca74585b",
   "metadata": {},
   "source": [
    "**Data Sources:**\n",
    "* Location data - [Wikipedia Website](https://en.wikipedia.org/wiki/List_of_postal_codes_of_Canada:_M) \n",
    "* Restaurants in the neighborhood - [Foursquare Website](https://foursquare.com/)\n",
    "* Socioeconomic data (population size by neighbourhood, average after tax household income by neighbourhood) - [Toronto Wellbeing page](http://map.toronto.ca/wellbeing/#eyJ0b3Itd2lkZ2V0LWNsYXNzYnJlYWsiOsSAcGVyY2VudE9wYWNpdHnElzcwfSwiY3VzxIJtYcSTYcSXxIBuZWlnaGJvdXJob29kc8S2fcSrxIHEg8SFxIfEicSLdGFixYXEmCLEo3RpdmVUxZBJZMSXxYnEhMWPYi1pbmRpY2HEgnLFhcWIYWdzTWFwxLYiesWCbcSXMTPErHjEly04ODM3NzYzLjXGhDcyN8SsxKc6NTQxMjkzMS4yNMaDMjg1xYjFpMWmxajFqsWSxIDFmMWraW9uxJcyxKxzxaRnbGXFhsSsxZZtZXPEm2nGtsayxK3Ev8STxJ9JxaXFp8WpxINNxYPGsToixq1uxq%2FGscWH)"
   ]
  },
  {
   "cell_type": "code",
   "execution_count": null,
   "id": "fd54f65d-b799-4a46-a33b-c36f101284b5",
   "metadata": {},
   "outputs": [],
   "source": []
  }
 ],
 "metadata": {
  "kernelspec": {
   "display_name": "Python",
   "language": "python",
   "name": "conda-env-python-py"
  },
  "language_info": {
   "codemirror_mode": {
    "name": "ipython",
    "version": 3
   },
   "file_extension": ".py",
   "mimetype": "text/x-python",
   "name": "python",
   "nbconvert_exporter": "python",
   "pygments_lexer": "ipython3",
   "version": "3.6.13"
  }
 },
 "nbformat": 4,
 "nbformat_minor": 5
}
